{
 "cells": [
  {
   "attachments": {},
   "cell_type": "markdown",
   "metadata": {},
   "source": [
    "# Dictionary Activities\n",
    "\n",
    "### Person and Student Dictionaries\n",
    "Follow along to create and manipulate simple data using dictionaries. Create your own version of each one below in the code window. This first set of activities you essentially are just creating a 'student' dictionary which is identical to the 'person' dictionary, just so that you can see it all work.\n"
   ]
  },
  {
   "cell_type": "code",
   "execution_count": 5,
   "metadata": {},
   "outputs": [
    {
     "name": "stdout",
     "output_type": "stream",
     "text": [
      "Alice\n",
      "30\n",
      "name\n",
      "city\n",
      "email\n",
      "name Alice\n",
      "city San Francisco\n",
      "email alice@example.com\n",
      "Email key exists.\n"
     ]
    }
   ],
   "source": [
    "# Creating a Dictionary\n",
    "person = {'name': 'Alice', 'age': 30, 'city': 'New York'}\n",
    "\n",
    "# Accessing Dictionary Values\n",
    "print(person['name'])\n",
    "print(person['age'])\n",
    "\n",
    "# Updating Dictionary Values\n",
    "person['city'] = 'San Francisco'\n",
    "\n",
    "# Adding a New Key-Value Pair\n",
    "person['email'] = 'alice@example.com'\n",
    "\n",
    "# Removing a Key-Value Pair\n",
    "del person['age']\n",
    "\n",
    "# Iterating Over Dictionary Keys\n",
    "for key in person:\n",
    "    print(key)\n",
    "\n",
    "# Iterating Over Dictionary Items\n",
    "for key, value in person.items():\n",
    "    print(key, value)\n",
    "\n",
    "# Checking if a Key Exists\n",
    "if 'email' in person:\n",
    "    print(\"Email key exists.\")\n",
    "else:\n",
    "    print(\"Email key does not exist.\")\n"
   ]
  },
  {
   "cell_type": "code",
   "execution_count": 13,
   "metadata": {},
   "outputs": [
    {
     "name": "stdout",
     "output_type": "stream",
     "text": [
      "Ronen\n",
      "14\n",
      "{'name': 'Ronen', 'suburb': 'Gosford', 'email': 'ronen.gupta@education.nsw.gov.au'}\n",
      "{'name': 'Ronen', 'suburb': 'Gosford', 'email': 'ronen.gupta@education.nsw.gov.au'}\n",
      "{'name': 'Ronen', 'suburb': 'Gosford', 'email': 'ronen.gupta@education.nsw.gov.au'}\n",
      "name Ronen\n",
      "suburb Gosford\n",
      "email ronen.gupta@education.nsw.gov.au\n",
      "Email Key exists.\n"
     ]
    }
   ],
   "source": [
    "#Student: Complete all activities below. It is pretty much using the code in the above window, but creating a 'student' dictionary instead of 'person'. \n",
    "\n",
    "# TODO: Create a dictionary representing a student (instead of person) with keys for 'name', 'age', and 'suburb'.\n",
    "student = {'name': 'Ronen', 'age': 14, 'suburb': 'Asquith'}\n",
    "\n",
    "# TODO: Access and print the values of the 'name' and 'age' keys from the student dictionary.\n",
    "print(student['name'])\n",
    "print(student['age'])\n",
    "\n",
    "# TODO: Update the 'suburb' value in the student dictionary to 'Gosford' (unless you live there - then put another suburb).\n",
    "student['suburb'] = 'Gosford'\n",
    "\n",
    "# TODO: Add a new key-value pair to the student dictionary for 'email' with a value of 'alice.soerjosoebroto@education.nsw.gov.au'.\n",
    "student['email'] = 'ronen.gupta@education.nsw.gov.au'\n",
    "\n",
    "# TODO: Remove the 'age' key and its corresponding value from the student dictionary.\n",
    "del student['age']\n",
    "\n",
    "# TODO: Iterate over the keys in the student dictionary and print each key.\n",
    "for key in student:\n",
    "    print(student)\n",
    "\n",
    "# TODO: Iterate over the key-value pairs (items) in the student dictionary and print each item.\n",
    "for key, value in student.items():\n",
    "    print(key, value)\n",
    "\n",
    "# TODO: Check if the 'email' key exists in the student dictionary and print a message based on its existence.\n",
    "if 'email' in student:\n",
    "    print(\"Email Key exists.\")\n",
    "else:\n",
    "    print(\"Email Key does not exist.\")"
   ]
  },
  {
   "attachments": {},
   "cell_type": "markdown",
   "metadata": {},
   "source": [
    "### Nested Dictionaries:\n",
    "\n",
    "You can create nested dictionaries to represent more complex data structures. For example, let's enhance the person dictionary to include nested information about their education and work experience:"
   ]
  },
  {
   "cell_type": "code",
   "execution_count": null,
   "metadata": {},
   "outputs": [],
   "source": [
    "person = {\n",
    "    'name': 'Alice',\n",
    "    'age': 30,\n",
    "    'education': {\n",
    "        'degree': 'Bachelor of Science',\n",
    "        'major': 'Computer Science',\n",
    "        'university': 'ABC University'\n",
    "    },\n",
    "    'work_experience': [\n",
    "        {'position': 'Software Engineer', 'company': 'XYZ Corp', 'years': 3},\n",
    "        {'position': 'Data Analyst', 'company': 'ABC Inc', 'years': 2}\n",
    "    ]\n",
    "}"
   ]
  },
  {
   "attachments": {},
   "cell_type": "markdown",
   "metadata": {},
   "source": [
    "### Accessing Nested Values:\n",
    "\n",
    "To access values in nested dictionaries, use multiple square brackets [ ] or the .get() method. Here are two examples of how to get Alice's university:"
   ]
  },
  {
   "cell_type": "code",
   "execution_count": 10,
   "metadata": {},
   "outputs": [
    {
     "ename": "KeyError",
     "evalue": "'education'",
     "output_type": "error",
     "traceback": [
      "\u001b[1;31m---------------------------------------------------------------------------\u001b[0m",
      "\u001b[1;31mKeyError\u001b[0m                                  Traceback (most recent call last)",
      "Cell \u001b[1;32mIn[10], line 1\u001b[0m\n\u001b[1;32m----> 1\u001b[0m university \u001b[39m=\u001b[39m person[\u001b[39m'\u001b[39;49m\u001b[39meducation\u001b[39;49m\u001b[39m'\u001b[39;49m][\u001b[39m'\u001b[39m\u001b[39muniversity\u001b[39m\u001b[39m'\u001b[39m]\n\u001b[0;32m      2\u001b[0m \u001b[39mprint\u001b[39m(university)\n",
      "\u001b[1;31mKeyError\u001b[0m: 'education'"
     ]
    }
   ],
   "source": [
    "university = person['education']['university']\n",
    "print(university)"
   ]
  },
  {
   "cell_type": "code",
   "execution_count": 11,
   "metadata": {},
   "outputs": [
    {
     "ename": "AttributeError",
     "evalue": "'NoneType' object has no attribute 'get'",
     "output_type": "error",
     "traceback": [
      "\u001b[1;31m---------------------------------------------------------------------------\u001b[0m",
      "\u001b[1;31mAttributeError\u001b[0m                            Traceback (most recent call last)",
      "Cell \u001b[1;32mIn[11], line 1\u001b[0m\n\u001b[1;32m----> 1\u001b[0m university \u001b[39m=\u001b[39m person\u001b[39m.\u001b[39;49mget(\u001b[39m'\u001b[39;49m\u001b[39meducation\u001b[39;49m\u001b[39m'\u001b[39;49m)\u001b[39m.\u001b[39;49mget(\u001b[39m'\u001b[39m\u001b[39muniversity\u001b[39m\u001b[39m'\u001b[39m)\n\u001b[0;32m      2\u001b[0m \u001b[39mprint\u001b[39m(university)\n",
      "\u001b[1;31mAttributeError\u001b[0m: 'NoneType' object has no attribute 'get'"
     ]
    }
   ],
   "source": [
    "university = person.get('education').get('university')\n",
    "print(university)"
   ]
  },
  {
   "attachments": {},
   "cell_type": "markdown",
   "metadata": {},
   "source": [
    "### Working with Lists in Dictionaries:\n",
    "\n",
    "Dictionaries can have lists as values. You can append, remove, or modify list elements within a dictionary. For instance, let's add a new job to Alice's work experience:"
   ]
  },
  {
   "cell_type": "code",
   "execution_count": null,
   "metadata": {},
   "outputs": [],
   "source": [
    "new_job = {'position': 'Project Manager', 'company': 'XYZ Corp', 'years': 1}\n",
    "person['work_experience'].append(new_job)\n"
   ]
  },
  {
   "attachments": {},
   "cell_type": "markdown",
   "metadata": {},
   "source": [
    "### Updating Nested Values:\n",
    "\n",
    "You can update nested values directly by assigning new values. For example, let's update Alice's age and degree:"
   ]
  },
  {
   "cell_type": "code",
   "execution_count": null,
   "metadata": {},
   "outputs": [],
   "source": [
    "person['age'] = 31\n",
    "person['education']['degree'] = 'Master of Science'"
   ]
  },
  {
   "attachments": {},
   "cell_type": "markdown",
   "metadata": {},
   "source": [
    "### Dictionary Comprehension:\n",
    "\n",
    "Similar to list comprehension, you can use dictionary comprehension to create dictionaries in a concise manner. For example, let's create a dictionary of squares:"
   ]
  },
  {
   "cell_type": "code",
   "execution_count": null,
   "metadata": {},
   "outputs": [],
   "source": [
    "squares = {x: x**2 for x in range(1, 6)}\n",
    "print(squares)"
   ]
  },
  {
   "attachments": {},
   "cell_type": "markdown",
   "metadata": {},
   "source": [
    "### Merging Dictionaries:\n",
    "\n",
    "You can merge dictionaries using the update() method or dictionary unpacking (**). For example, let's merge two dictionaries:"
   ]
  },
  {
   "cell_type": "code",
   "execution_count": null,
   "metadata": {},
   "outputs": [],
   "source": [
    "dict1 = {'a': 1, 'b': 2}\n",
    "dict2 = {'c': 3, 'd': 4}\n",
    "dict1.update(dict2)\n",
    "\n",
    "# Alternatively: merged_dict = {**dict1, **dict2}"
   ]
  },
  {
   "attachments": {},
   "cell_type": "markdown",
   "metadata": {},
   "source": [
    "# Challenge 1: Create a Dictionary\n",
    "\n",
    "Create a program that stores information about a student using a dictionary.\n",
    "\n",
    "* The program should ask the user to input the student's name, age, and favorite subject.\n",
    "* Store this information in a dictionary with keys 'name', 'age', and 'favorite_subject'.\n",
    "* Finally, display the student's information from the dictionary."
   ]
  },
  {
   "cell_type": "code",
   "execution_count": 14,
   "metadata": {},
   "outputs": [
    {
     "name": "stdout",
     "output_type": "stream",
     "text": [
      "name Ronen\n",
      "age 14\n",
      "FavSubject Maths\n"
     ]
    }
   ],
   "source": [
    "#TODO: Ask the user to input student information (name, age, favourite subject on 3 separate lines). Store these in variables.\n",
    "name = input(\"What is your name? \")\n",
    "age = input(\"Please enter your age: \")\n",
    "FavSubject = input(\"Tell me your favourite subject: \")\n",
    "\n",
    "#TODO: Create a dictionary to store student information collected above.\n",
    "student = {'name': name, 'age': age, 'FavSubject': FavSubject}\n",
    "\n",
    "#TODO: Display the student's information from the dictionary.\n",
    "for key, value in student.items():\n",
    "    print(key, value)"
   ]
  },
  {
   "attachments": {},
   "cell_type": "markdown",
   "metadata": {},
   "source": [
    "# Challenge 2: Arm Yourself Against Zombies!\n",
    "\n",
    "Create a program that manages an arsenal of anti-zombie weapons using a dictionary. The program should have functions to do the following:\n",
    "\n",
    "* Add a new weapon to the arsenal with its name and quantity.\n",
    "* Display all weapons in the arsenal with their quantities.\n",
    "* Search for a weapon by name and display its quantity if found.\n",
    "* Remove a weapon from the arsenal by name.\n",
    "* Implement the program using functions to modularize the code and make it more organized."
   ]
  },
  {
   "cell_type": "code",
   "execution_count": 44,
   "metadata": {},
   "outputs": [
    {
     "name": "stdout",
     "output_type": "stream",
     "text": [
      "Shotgun Maths\n",
      "Shotgun 10\n",
      "Machete 5\n",
      "Hand Grenade 3\n",
      "Minigun 1\n"
     ]
    }
   ],
   "source": [
    "#TODO: Create a Function to add a new weapon to the arsenal\n",
    "def add_weapon():\n",
    "    weapon = input(\"Add a weapon\")\n",
    "    anti_zombie_arsenal[weapon] = 1\n",
    "    \n",
    "\n",
    "\n",
    "#TODO: Create a Function to display all weapons in the arsenal\n",
    "def display_weapons():\n",
    "      for key, value in anti_zombie_arsenal.items():\n",
    "       print(key, value)\n",
    "      \n",
    "#TODO: Create a Function to search for a weapon by name and display its quantity\n",
    "def find_weapon():\n",
    "    find = input('What weapon are you trying to find? ')\n",
    "    if find in anti_zombie_arsenal:\n",
    "        print(find)\n",
    "#TODO: Create a Function to remove a weapon from the arsenal\n",
    "def remove_weapon():\n",
    "    remove = input(\"What weapon are you trying to remove? \")\n",
    "    if remove in anti_zombie_arsenal:\n",
    "        del anti_zombie_arsenal[remove]\n",
    "\n",
    "#Look at the dictionary - there are WEAPONS and QUANTITY, so you'll need to sometimes refer to BOTH in the above functions:\n",
    "anti_zombie_arsenal = {\n",
    "    'Shotgun': 10,\n",
    "    'Machete': 5,\n",
    "    'Crossbow': 8,\n",
    "    'Hand Grenade': 3\n",
    "}\n",
    "\n",
    "#TODO: Now try out ALL the functions below and arm yourself against the oncoming apocalypse!\n",
    "add_weapon()\n",
    "find_weapon()\n",
    "remove_weapon()\n",
    "display_weapons()\n"
   ]
  },
  {
   "attachments": {},
   "cell_type": "markdown",
   "metadata": {},
   "source": [
    "# Extension Challenge: Grade Calculator\n",
    "\n",
    "Create a program that calculates the average grade for a student based on their scores in different subjects.\n",
    "\n",
    "* The program should ask the user to enter the student's name, followed by their scores in three subjects: Math, Science, and English.\n",
    "* Store the scores in a dictionary where the keys are the subject names and the values are lists containing the student's scores for each subject.\n",
    "* Calculate the average grade for the student using the formula: (Math + Science + English) / 3.\n",
    "* Display the student's name, scores in each subject, and the calculated average grade.\n"
   ]
  },
  {
   "cell_type": "code",
   "execution_count": 14,
   "metadata": {},
   "outputs": [
    {
     "name": "stdout",
     "output_type": "stream",
     "text": [
      "Student Name: Ronen\n",
      "Subject Scores:\n",
      "Maths: 89.0\n",
      "Science: 99.0\n",
      "English: 99.0\n",
      "Average Grade: 95.66666666666667\n"
     ]
    }
   ],
   "source": [
    "#TODO: Function definition to calculate average grade - code provided as comment on next line\n",
    "def calculate_average_grade(scores):\n",
    "\n",
    "    #TODO: Calculate the total score by summing all the scores in the dictionary\n",
    " total_score = sum(scores.values())\n",
    "    #TODO: Calculate the average grade by dividing the total score by the number of subjects\n",
    " average = int(total_score)/3\n",
    "    #TODO: Return the average grade\n",
    " return average\n",
    "\n",
    "#TODO: Function to display student information (name, scores, average grade) - code provided as comment on next line\n",
    "def display_student_info(name, scores, average_grade):\n",
    "    # Print the student's name\n",
    "    print(f\"Student Name: {name}\")\n",
    "    print(\"Subject Scores:\")\n",
    "    # Iterate over the subjects and scores in the dictionary and print each subject's score\n",
    "    for subject, score in scores.items():\n",
    "        print(f\"{subject}: {score}\")\n",
    "    # Print the calculated average grade\n",
    "    print(f\"Average Grade: {average_grade}\")\n",
    "\n",
    "# Main program\n",
    "#TODO: Prompt the user to enter the student's name\n",
    "name = input(\"What is your name? \")\n",
    "#TODO: Prompt the user to enter scores for Math, Science, and English\n",
    "maths_score = float(input(\"What score did you have in Maths? \"))\n",
    "science_score = float(input(\"What score did you have in Science? \"))\n",
    "english_score = float(input(\"What score did you have in English? \"))\n",
    "#TODO: Create a dictionary to store the scores with subject names as keys\n",
    "scores = {'Maths': maths_score, 'Science': science_score, 'English': english_score}\n",
    "#TODO: Calculate the average grade using the calculate_average_grade function\n",
    "average_grade = calculate_average_grade(scores)\n",
    "# Display the student's information using the display_student_info function\n",
    "display_student_info(name, scores, average_grade)"
   ]
  }
 ],
 "metadata": {
  "kernelspec": {
   "display_name": "Python 3",
   "language": "python",
   "name": "python3"
  },
  "language_info": {
   "codemirror_mode": {
    "name": "ipython",
    "version": 3
   },
   "file_extension": ".py",
   "mimetype": "text/x-python",
   "name": "python",
   "nbconvert_exporter": "python",
   "pygments_lexer": "ipython3",
   "version": "3.9.6"
  }
 },
 "nbformat": 4,
 "nbformat_minor": 2
}
